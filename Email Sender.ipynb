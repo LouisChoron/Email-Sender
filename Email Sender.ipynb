{
 "cells": [
  {
   "cell_type": "code",
   "execution_count": 81,
   "metadata": {},
   "outputs": [],
   "source": [
    "# Importing libraries\n",
    "import win32com.client as win32\n",
    "import pandas as pd"
   ]
  },
  {
   "cell_type": "code",
   "execution_count": 82,
   "metadata": {},
   "outputs": [
    {
     "data": {
      "text/html": [
       "<div>\n",
       "<style scoped>\n",
       "    .dataframe tbody tr th:only-of-type {\n",
       "        vertical-align: middle;\n",
       "    }\n",
       "\n",
       "    .dataframe tbody tr th {\n",
       "        vertical-align: top;\n",
       "    }\n",
       "\n",
       "    .dataframe thead th {\n",
       "        text-align: right;\n",
       "    }\n",
       "</style>\n",
       "<table border=\"1\" class=\"dataframe\">\n",
       "  <thead>\n",
       "    <tr style=\"text-align: right;\">\n",
       "      <th></th>\n",
       "      <th>Recipient(s)</th>\n",
       "      <th>Subject(s)</th>\n",
       "      <th>Body</th>\n",
       "      <th>Attachment Path(s)</th>\n",
       "      <th>Attachment Status</th>\n",
       "    </tr>\n",
       "  </thead>\n",
       "  <tbody>\n",
       "    <tr>\n",
       "      <th>0</th>\n",
       "      <td>test-recipient@gmail.com</td>\n",
       "      <td>Test-subject</td>\n",
       "      <td>Hi,\\n    I hope all is well.\\n\\nI was just wri...</td>\n",
       "      <td>NaN</td>\n",
       "      <td>No</td>\n",
       "    </tr>\n",
       "    <tr>\n",
       "      <th>1</th>\n",
       "      <td>test-recipient-2@outlook.co.uk</td>\n",
       "      <td>Test-subject-2</td>\n",
       "      <td>Hi,\\n    I hope all is well.\\n\\nI was just wri...</td>\n",
       "      <td>NaN</td>\n",
       "      <td>NaN</td>\n",
       "    </tr>\n",
       "    <tr>\n",
       "      <th>2</th>\n",
       "      <td>test-recipient-3@hotmail.com</td>\n",
       "      <td>Test-subject-3</td>\n",
       "      <td>Hello,\\n          This is a test.\\n\\nThanks,\\nX</td>\n",
       "      <td>NaN</td>\n",
       "      <td>NaN</td>\n",
       "    </tr>\n",
       "  </tbody>\n",
       "</table>\n",
       "</div>"
      ],
      "text/plain": [
       "                     Recipient(s)      Subject(s)  \\\n",
       "0        test-recipient@gmail.com    Test-subject   \n",
       "1  test-recipient-2@outlook.co.uk  Test-subject-2   \n",
       "2    test-recipient-3@hotmail.com  Test-subject-3   \n",
       "\n",
       "                                                Body  Attachment Path(s)  \\\n",
       "0  Hi,\\n    I hope all is well.\\n\\nI was just wri...                 NaN   \n",
       "1  Hi,\\n    I hope all is well.\\n\\nI was just wri...                 NaN   \n",
       "2    Hello,\\n          This is a test.\\n\\nThanks,\\nX                 NaN   \n",
       "\n",
       "  Attachment Status  \n",
       "0                No  \n",
       "1               NaN  \n",
       "2               NaN  "
      ]
     },
     "metadata": {},
     "output_type": "display_data"
    }
   ],
   "source": [
    "# Loading email data from .csv to dataframe\n",
    "df = pd.read_csv('Email_Details.csv')\n",
    "display(df)"
   ]
  },
  {
   "cell_type": "code",
   "execution_count": 83,
   "metadata": {},
   "outputs": [],
   "source": [
    "# Seperating the email content\n",
    "outlook = win32.Dispatch('outlook.application')\n",
    "\n",
    "Recipients = df['Recipient(s)'].tolist()\n",
    "Subjects = df['Subject(s)'].tolist()\n",
    "Body = df['Body'].tolist()\n",
    "Attachments = df['Attachment Path(s)'].tolist()  # Paths to attachments\n",
    "Attach_status = df['Attachment Status'][0]\n",
    "\n",
    "# Defining functions\n",
    "def length_check(Recipients, Subjects, Body, Attachments, Attach_status):\n",
    "    '''This function checks that the recipient, subject, body and attachment data are\n",
    "    of compatible lengths. This means that either all have the same length (E.G 8 emails\n",
    "    with each defined) or some are length 1, at which point they will be repeated for \n",
    "    every email later (E.G the same Body to many different recipients)'''\n",
    "    \n",
    "    # We first check whether attachments should be included\n",
    "    if Attach_status=='Yes':\n",
    "        lists = [Subjects, Body, Attachments]\n",
    "    else:\n",
    "        lists = [Subjects, Body]\n",
    "\n",
    "    # We then check the lengths, and raise errors if necessary\n",
    "    for l in lists:\n",
    "        if len(l)==len(Recipients) or len(l)==1:\n",
    "            pass\n",
    "        elif len(l)>=len(Recipients):\n",
    "            raise Exception(\"There is more email content than recipients!\")\n",
    "        else:\n",
    "            raise Exception(\"Cannot associate the correct Subject, Body or Attachment content with each email\")\n",
    "        \n",
    "\n",
    "def send_email(Recipients, Subjects, Body, Attachments, Attach_status):\n",
    "    '''This function sends the emails, which involves creating each email item,\n",
    "    checking the compatibility (as above), repeating data if necessary and then\n",
    "    sending each email.'''\n",
    "    \n",
    "    # We check the lengths for each email input\n",
    "    length_check(Recipients, Subjects, Body, Attachments, Attach_status)\n",
    "    \n",
    "    # Here we create and send each email\n",
    "    for i in range(len(Recipients)):\n",
    "        \n",
    "        mail = outlook.CreateItem(0)\n",
    "        \n",
    "        # Filling each email with the correct data or repeating some content if only given once\n",
    "        mail.To = Recipients[0] if len(Recipients) == 1 else Recipients[i]\n",
    "        mail.Subject = Subjects[0] if len(Subjects) == 1 else Subjects[i]\n",
    "        mail.Body = Body[0] if len(Body) == 1 else Body[i]    \n",
    "        \n",
    "        # Optionally adding attachments\n",
    "        if Attach_status == 'Yes':\n",
    "            mail.Attachments.Add(Attachments[0]) if len(Attachments) == 1 else Attachments[i]\n",
    "            \n",
    "        #mail.Display(True)\n",
    "        mail.Send()"
   ]
  },
  {
   "cell_type": "code",
   "execution_count": 84,
   "metadata": {},
   "outputs": [],
   "source": [
    "# Running the code\n",
    "send_email(Recipients, Subjects, Body, Attachments, Attach_status)"
   ]
  },
  {
   "cell_type": "code",
   "execution_count": null,
   "metadata": {},
   "outputs": [],
   "source": []
  }
 ],
 "metadata": {
  "kernelspec": {
   "display_name": "Python 3",
   "language": "python",
   "name": "python3"
  },
  "language_info": {
   "codemirror_mode": {
    "name": "ipython",
    "version": 3
   },
   "file_extension": ".py",
   "mimetype": "text/x-python",
   "name": "python",
   "nbconvert_exporter": "python",
   "pygments_lexer": "ipython3",
   "version": "3.8.3"
  }
 },
 "nbformat": 4,
 "nbformat_minor": 4
}
